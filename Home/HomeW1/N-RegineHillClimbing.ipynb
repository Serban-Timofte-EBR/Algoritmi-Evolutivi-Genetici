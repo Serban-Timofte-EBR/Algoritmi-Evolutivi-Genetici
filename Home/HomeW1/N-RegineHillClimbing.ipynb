{
 "cells": [
  {
   "cell_type": "code",
   "execution_count": null,
   "id": "77235d51",
   "metadata": {},
   "outputs": [
    {
     "name": "stdout",
     "output_type": "stream",
     "text": [
      "Soluția finală după 2 mutări:\n",
      ". . . . . Q . . \n",
      "Q . . . . . . . \n",
      ". . . . . . Q . \n",
      ". . . Q . . . . \n",
      ". Q . . . . . . \n",
      ". . . . . . . Q \n",
      ". . . . Q . . . \n",
      ". . Q . . . . . \n"
     ]
    }
   ],
   "source": [
    "#N Regine  -> Hill Climbing -> !!! .ipynb file cretead in JupyterNoteBook !!!\n",
    "import numpy as np\n",
    "\n",
    "def este_valid(tabla, rand, col):\n",
    "    for i in range(col):\n",
    "        if tabla[i] == rand or abs(tabla[i] - rand) == abs(i - col):\n",
    "            return False\n",
    "    return True\n",
    "\n",
    "def afiseaza_tabla(tabla, N):\n",
    "    for i in range(N):\n",
    "        for j in range(N):\n",
    "            if tabla[j] == i:\n",
    "                print(\"Q \", end=\"\")\n",
    "            else:\n",
    "                print(\". \", end=\"\")\n",
    "        print()\n",
    "\n",
    "def hill_climbing(N):\n",
    "    tabla = np.arange(N)\n",
    "    np.random.shuffle(tabla)\n",
    "    \n",
    "    mutari = 0\n",
    "    while True:\n",
    "        col, rand = None, None\n",
    "        scor_curent = numar_conflicte(tabla, N)\n",
    "        for i in range(N):\n",
    "            pozitie_curenta = tabla[i]\n",
    "            for j in range(N):\n",
    "                if j == pozitie_curenta:\n",
    "                    continue\n",
    "                tabla[i] = j\n",
    "                if este_valid(tabla, j, i) and numar_conflicte(tabla, N) < scor_curent:\n",
    "                    col, rand = i, j\n",
    "                    scor_curent = numar_conflicte(tabla, N)\n",
    "            tabla[i] = pozitie_curenta\n",
    "        \n",
    "        if col is not None:\n",
    "            tabla[col] = rand\n",
    "            mutari += 1\n",
    "        else:\n",
    "            break\n",
    "    \n",
    "    print(f\"Soluția finală după {mutari} mutări:\")\n",
    "    afiseaza_tabla(tabla, N)\n",
    "    return tabla\n",
    "\n",
    "def numar_conflicte(tabla, N):\n",
    "    conflicte = 0\n",
    "    for i in range(N):\n",
    "        for j in range(i + 1, N):\n",
    "            if tabla[i] == tabla[j] or abs(tabla[i] - tabla[j]) == abs(i - j):\n",
    "                conflicte += 1\n",
    "    return conflicte\n",
    "\n",
    "N = 8\n",
    "sol = hill_climbing(N)"
   ]
  },
  {
   "cell_type": "code",
   "execution_count": null,
   "id": "96307b83",
   "metadata": {},
   "outputs": [],
   "source": []
  }
 ],
 "metadata": {
  "kernelspec": {
   "display_name": "Python 3 (ipykernel)",
   "language": "python",
   "name": "python3"
  },
  "language_info": {
   "codemirror_mode": {
    "name": "ipython",
    "version": 3
   },
   "file_extension": ".py",
   "mimetype": "text/x-python",
   "name": "python",
   "nbconvert_exporter": "python",
   "pygments_lexer": "ipython3",
   "version": "3.11.5"
  }
 },
 "nbformat": 4,
 "nbformat_minor": 5
}
